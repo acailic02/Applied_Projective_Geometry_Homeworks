{
 "cells": [
  {
   "cell_type": "code",
   "execution_count": 42,
   "id": "3cf1666f-049b-459c-b95e-19a9fec34db9",
   "metadata": {},
   "outputs": [],
   "source": [
    "import numpy as np\n",
    "from numpy import linalg as LA\n",
    "from itertools import combinations"
   ]
  },
  {
   "cell_type": "code",
   "execution_count": 43,
   "id": "532965a7-ace4-4afa-a1ed-72b724ee41de",
   "metadata": {},
   "outputs": [],
   "source": [
    "def colinear(p1, p2, p3):\n",
    "    matrix = np.array([p1,p2,p3]).T\n",
    "    det = LA.det(matrix)\n",
    "\n",
    "    return det == 0"
   ]
  },
  {
   "cell_type": "code",
   "execution_count": 104,
   "id": "af0097f7-b3d8-42b6-ba7c-5e45a658fa8d",
   "metadata": {},
   "outputs": [],
   "source": [
    "def naiveAlg(f1: list, f2: list):\n",
    "    for a,b,c in combinations(f1, 3):\n",
    "        if colinear(a,b,c):\n",
    "            print(\"Losi originali!\")\n",
    "            return\n",
    "    for a,b,c in combinations(f2, 3):\n",
    "        if colinear(a,b,c):\n",
    "            print(\"Lose slike!\")\n",
    "            return\n",
    "\n",
    "    d0 = np.array(f1[3])\n",
    "    d = np.array(f2[3])\n",
    "\n",
    "    #prvo preslikavanje\n",
    "    A = np.array(f1[:-1])\n",
    "    P = LA.solve(A.T, d0.T)\n",
    "\n",
    "    f = P * A.T\n",
    "    f = np.array(f)\n",
    "\n",
    "    #drugo preslikavanje\n",
    "    B = np.array(f2[:-1])\n",
    "    P2 = LA.solve(B.T, d.T)\n",
    "\n",
    "    g = P2 * B.T \n",
    "    g = np.array(g)\n",
    "\n",
    "    matrica = g @ LA.inv(f)\n",
    "    matrica = np.array(matrica)/matrica[-1][-1]\n",
    "    \n",
    "    return np.round(matrica,5)"
   ]
  },
  {
   "cell_type": "code",
   "execution_count": 105,
   "id": "261cf973-c1ae-4d6d-8458-d60dc005c18c",
   "metadata": {},
   "outputs": [
    {
     "data": {
      "text/plain": [
       "array([[ 1. , -0. ,  0. ],\n",
       "       [-0. ,  1. , -0.5],\n",
       "       [ 0. , -0.5,  1. ]])"
      ]
     },
     "execution_count": 105,
     "metadata": {},
     "output_type": "execute_result"
    }
   ],
   "source": [
    "a0 = [-3,-1,1]\n",
    "b0 = [3,-1,1]\n",
    "c0 = [1,1,1]\n",
    "d0 = [-1,1,1]\n",
    "\n",
    "a = [-2,-1,1]\n",
    "b = [2,-1,1]\n",
    "c = [2,1,1]\n",
    "d = [-2,1,1]\n",
    "\n",
    "f1 = np.array([a0,b0,c0,d0])\n",
    "f2 = np.array([a,b,c,d])\n",
    "\n",
    "rez = naiveAlg(f1,f2)\n",
    "rez"
   ]
  },
  {
   "cell_type": "code",
   "execution_count": 106,
   "id": "ce24948a-7f4b-4106-ab1f-4a26635f415d",
   "metadata": {},
   "outputs": [
    {
     "name": "stdout",
     "output_type": "stream",
     "text": [
      "[[ 1.  -0.   0. ]\n",
      " [-0.   1.  -0.5]\n",
      " [ 0.  -0.5  1. ]]\n"
     ]
    }
   ],
   "source": [
    "trapez = [[- 3, - 1, 1], [3, - 1, 1], [1, 1, 1], [- 1, 1, 1]] \n",
    "pravougaonik = [[- 2, - 1, 1], [2, - 1, 1], [2, 1, 1], [- 2, 1, 1]]\n",
    "print(naiveAlg(trapez, pravougaonik))"
   ]
  },
  {
   "cell_type": "code",
   "execution_count": null,
   "id": "ace96e0e-cb30-4ba6-bd27-755fc01413cf",
   "metadata": {},
   "outputs": [],
   "source": []
  }
 ],
 "metadata": {
  "kernelspec": {
   "display_name": "Python 3 (ipykernel)",
   "language": "python",
   "name": "python3"
  },
  "language_info": {
   "codemirror_mode": {
    "name": "ipython",
    "version": 3
   },
   "file_extension": ".py",
   "mimetype": "text/x-python",
   "name": "python",
   "nbconvert_exporter": "python",
   "pygments_lexer": "ipython3",
   "version": "3.12.5"
  }
 },
 "nbformat": 4,
 "nbformat_minor": 5
}
