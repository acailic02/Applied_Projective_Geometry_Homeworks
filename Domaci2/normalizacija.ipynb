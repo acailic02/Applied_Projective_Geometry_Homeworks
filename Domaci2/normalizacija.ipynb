{
 "cells": [
  {
   "cell_type": "code",
   "execution_count": 48,
   "id": "4cf12c75-5c21-40a0-bda4-bc3b818b049c",
   "metadata": {},
   "outputs": [],
   "source": [
    "import numpy as np\n",
    "from numpy import linalg as LA\n",
    "np.set_printoptions(precision=5, suppress=True)"
   ]
  },
  {
   "cell_type": "code",
   "execution_count": 3,
   "id": "9259c6a3-2439-4d95-939d-916157c33406",
   "metadata": {},
   "outputs": [],
   "source": [
    "def afinize(x):\n",
    "    return x/x[-1]"
   ]
  },
  {
   "cell_type": "code",
   "execution_count": 43,
   "id": "3d72d556-c949-4e07-bc55-5936cd2fd15b",
   "metadata": {},
   "outputs": [],
   "source": [
    "def normMatrix(points):\n",
    "    def afinize(x):\n",
    "        return x/x[-1]\n",
    "    \n",
    "    aPts = [afinize(np.array(pt)) for pt in points]\n",
    "    cog = np.mean(aPts, axis = 0)\n",
    "\n",
    "    translated = aPts - cog\n",
    "    G = np.array([[1, 0, -cog[0]], [0, 1, -cog[1]], [0, 0, 1]])\n",
    "\n",
    "    norms = [LA.norm(pt) for pt in translated]\n",
    "    avgNorm = np.mean(norms)\n",
    "    l = np.sqrt(2)/avgNorm\n",
    "    S = np.array([[l, 0, 0], [0, l, 0], [0, 0, 1]])\n",
    "    \n",
    "    return np.array(S@G)"
   ]
  },
  {
   "cell_type": "code",
   "execution_count": 56,
   "id": "3c2ab7c8-91f5-42ae-904b-f4f84f4717d1",
   "metadata": {},
   "outputs": [],
   "source": [
    "def DLT(org: list, img: list):\n",
    "    if len(org) != len(img):\n",
    "        return \"Razlicit broj tacaka u slici i originalu!\"\n",
    "\n",
    "    #dve jednacine i pravljenje 2nx9 matrice\n",
    "    A = []\n",
    "    for (x1, x2, x3), (xp1, xp2, xp3) in zip(org, img):\n",
    "        A.append([0, 0, 0, -1*xp3*x1, -1*xp3*x2, -1*xp3*x3, xp2*x1, xp2*x2, xp2*x3])\n",
    "        A.append([xp3*x1, xp3*x2, xp3*x3, 0, 0, 0, -1*xp1*x1, -1*xp1*x2, -1*xp1*x3])\n",
    "    A = np.array(A)\n",
    "\n",
    "    U, D, V = LA.svd(A)\n",
    "    P = V[-1].reshape(3,3)\n",
    "    P = P/P[-1,-1]\n",
    "\n",
    "    return np.array(P)"
   ]
  },
  {
   "cell_type": "code",
   "execution_count": 57,
   "id": "53553bb8-0d2e-44f8-a8cc-baf662632b56",
   "metadata": {},
   "outputs": [],
   "source": [
    "def DLTwithNormalization(org, img):\n",
    "    org = np.array(org)\n",
    "    img = np.array(img)\n",
    "    \n",
    "    T1 = normMatrix(org)\n",
    "    nOrg = T1 @ org.T\n",
    "    \n",
    "    T2 = normMatrix(img)\n",
    "    nImg = T2 @ img.T\n",
    "\n",
    "    P2 = DLT(nOrg.T, nImg.T)\n",
    "    P1 = LA.inv(T2) @ P2 @ T1\n",
    "    P1 = P1/P1[-1,-1]\n",
    "\n",
    "    return np.array(P1)"
   ]
  },
  {
   "cell_type": "code",
   "execution_count": 58,
   "id": "574970cc-98eb-409c-ab05-e12e06668789",
   "metadata": {},
   "outputs": [
    {
     "data": {
      "text/plain": [
       "array([[ 1. , -0. , -0. ],\n",
       "       [-0. ,  1. , -0.5],\n",
       "       [-0. , -0.5,  1. ]])"
      ]
     },
     "execution_count": 58,
     "metadata": {},
     "output_type": "execute_result"
    }
   ],
   "source": [
    "a0 = [-3,-1,1]\n",
    "b0 = [3,-1,1]\n",
    "c0 = [1,1,1]\n",
    "d0 = [-1,1,1]\n",
    "\n",
    "a = [-2,-1,1]\n",
    "b = [2,-1,1]\n",
    "c = [2,1,1]\n",
    "d = [-2,1,1]\n",
    "\n",
    "f1 = np.array([a0,b0,c0,d0])\n",
    "f2 = np.array([a,b,c,d])\n",
    "\n",
    "normalizedDLT(f1, f2)"
   ]
  },
  {
   "cell_type": "code",
   "execution_count": 59,
   "id": "59bfdc32-d30f-4b36-a8ce-6b084135c470",
   "metadata": {},
   "outputs": [
    {
     "name": "stdout",
     "output_type": "stream",
     "text": [
      "[[0.44969 0.      0.5746 ]\n",
      " [0.      0.44969 0.09993]\n",
      " [0.      0.      1.     ]]\n"
     ]
    }
   ],
   "source": [
    "trapez = [[- 3, - 1, 1], [3, - 1, 1], [1, 1, 1], [- 1, 1, 1], [1,2,3], [-8,-2,1]] \n",
    "print(normMatrix(trapez))\n"
   ]
  },
  {
   "cell_type": "code",
   "execution_count": 54,
   "id": "7bf17dd1-c2de-4424-8cb7-d5edb06e0f17",
   "metadata": {},
   "outputs": [
    {
     "name": "stdout",
     "output_type": "stream",
     "text": [
      "[[ 0.99732  0.16288 -0.19592]\n",
      " [ 0.02538  0.96398 -0.52775]\n",
      " [-0.07202 -0.53967  1.     ]]\n"
     ]
    }
   ],
   "source": [
    "trapez = [[- 3, - 1, 1], [3, - 1, 1], [1, 1, 1], [- 1, 1, 1], [1,2,3], [-8,-2,1]] \n",
    "pravougaonik1 = [[- 2, - 1, 1], [2, - 1, 1], [2, 1, 1], [- 2, 1, 1], [2,1,5], [-16,-5,5]]\n",
    "print(DLTwithNormalization(trapez, pravougaonik1))"
   ]
  },
  {
   "cell_type": "code",
   "execution_count": null,
   "id": "6b8e94b6-67a2-482b-99ac-6a6b1f4c5bc6",
   "metadata": {},
   "outputs": [],
   "source": []
  }
 ],
 "metadata": {
  "kernelspec": {
   "display_name": "Python 3 (ipykernel)",
   "language": "python",
   "name": "python3"
  },
  "language_info": {
   "codemirror_mode": {
    "name": "ipython",
    "version": 3
   },
   "file_extension": ".py",
   "mimetype": "text/x-python",
   "name": "python",
   "nbconvert_exporter": "python",
   "pygments_lexer": "ipython3",
   "version": "3.12.5"
  }
 },
 "nbformat": 4,
 "nbformat_minor": 5
}
