{
 "cells": [
  {
   "cell_type": "code",
   "execution_count": null,
   "id": "97bc38c8-2d67-4583-a8c8-755e398750fd",
   "metadata": {},
   "outputs": [],
   "source": []
  }
 ],
 "metadata": {
  "kernelspec": {
   "display_name": "",
   "name": ""
  },
  "language_info": {
   "name": ""
  }
 },
 "nbformat": 4,
 "nbformat_minor": 5
}
