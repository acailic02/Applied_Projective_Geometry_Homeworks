{
 "cells": [
  {
   "cell_type": "code",
   "execution_count": 1,
   "id": "68da8f7b-60fc-4466-a73b-5a8923cd5b19",
   "metadata": {},
   "outputs": [],
   "source": [
    "import numpy as np\n",
    "from itertools import combinations\n",
    "from numpy import linalg as LA"
   ]
  },
  {
   "cell_type": "code",
   "execution_count": 2,
   "id": "1ba39d5b-e1a2-43f0-9520-e813347c7532",
   "metadata": {},
   "outputs": [],
   "source": [
    "def kolinearne(tacke: list):\n",
    "    for p1, p2, p3 in combinations(tacke, 3):\n",
    "        mat = np.array([p1, p2, p3])\n",
    "        det = LA.det(mat)\n",
    "        if det == 0:\n",
    "            return True\n",
    "    return False"
   ]
  },
  {
   "cell_type": "code",
   "execution_count": 3,
   "id": "35060130-ae79-41eb-9384-8f77a83512b1",
   "metadata": {},
   "outputs": [],
   "source": [
    "def naivni(x1, x2):\n",
    "    #provera da li su u opstem polozaju\n",
    "    if kolinearne(x1):\n",
    "        return \"Kolinearne tacke u originalu\"\n",
    "    if kolinearne(x2):\n",
    "        return \"Kolinearne tacke u slici\"\n",
    "\n",
    "    #prvo preslikavanje original -> pravilni\n",
    "    #trazimo koef td. d = k1a + k2b + k3c\n",
    "    d0 = np.array(x1[-1]);\n",
    "    A = np.array(x1[:-1])\n",
    "    koef0 = LA.solve(A.T, d0.T)\n",
    "    f = LA.inv(A.T*koef0)\n",
    "\n",
    "    #drugo preslikavanje\n",
    "    d1 = np.array(x2[-1])\n",
    "    B = np.array(x2[:-1])\n",
    "    koef1 = LA.solve(B.T, d1.T)\n",
    "    g = B.T * koef1\n",
    "\n",
    "    #krajnje preslikavanje\n",
    "    P = g @ f\n",
    "\n",
    "    return np.round(P/P[-1, -1], 5)\n",
    "    "
   ]
  },
  {
   "cell_type": "code",
   "execution_count": 4,
   "id": "54cc5ef6-d65f-46f1-8a0f-eb87ae8462cc",
   "metadata": {},
   "outputs": [
    {
     "data": {
      "text/plain": [
       "array([[ 1. , -0. ,  0. ],\n",
       "       [-0. ,  1. , -0.5],\n",
       "       [ 0. , -0.5,  1. ]])"
      ]
     },
     "execution_count": 4,
     "metadata": {},
     "output_type": "execute_result"
    }
   ],
   "source": [
    "naivni([[-3, -1, 1],[3, -1, 1], [1, 1, 1], [-1, 1, 1]], [[-2, -1, 1],[2, -1, 1], [2, 1, 1], [-2, 1, 1]])"
   ]
  },
  {
   "cell_type": "code",
   "execution_count": 5,
   "id": "03837f32-6887-429e-b4d2-c9fe93b98f41",
   "metadata": {},
   "outputs": [],
   "source": [
    "def DLT(org, img):\n",
    "    # matrica dve jednacine\n",
    "    A = []\n",
    "    for (x1, x2, x3), (xp1, xp2, xp3) in zip(org, img):\n",
    "        A.append([0, 0, 0, -xp3*x1, -xp3*x2, -xp3*x3, xp2*x1, xp2*x2, xp2*x3])\n",
    "        A.append([xp3*x1, xp3*x2, xp3*x3, 0, 0, 0, -xp1*x1, -xp1*x2, -xp1*x3])\n",
    "\n",
    "    _, _, V = LA.svd(A)\n",
    "    P = V[-1].reshape(3, 3)\n",
    "\n",
    "    return np.round(P/P[-1, -1], 5)"
   ]
  },
  {
   "cell_type": "code",
   "execution_count": 6,
   "id": "2ddaa715-c0f6-43a2-a2f0-dc28b4a5c143",
   "metadata": {},
   "outputs": [
    {
     "name": "stdout",
     "output_type": "stream",
     "text": [
      "[[ 0.99611  0.16558 -0.19689]\n",
      " [ 0.02513  0.96444 -0.52778]\n",
      " [-0.07233 -0.53789  1.     ]]\n"
     ]
    }
   ],
   "source": [
    "trapez = [[- 3, - 1, 1], [3, - 1, 1], [1, 1, 1], [- 1, 1, 1], [1,2,3], [-8,-2,1]] \n",
    "pravougaonik1 = [[- 2, - 1, 1], [2, - 1, 1], [2, 1, 1], [- 2, 1, 1], [2,1,5], [-16,-5,5]]\n",
    "print(DLT(trapez, pravougaonik1))"
   ]
  },
  {
   "cell_type": "code",
   "execution_count": 7,
   "id": "5fe7d614-8d00-4dfe-8654-34904accaa55",
   "metadata": {},
   "outputs": [],
   "source": [
    "def afinize(x):\n",
    "    x = np.array(x)\n",
    "    return x/x[-1]"
   ]
  },
  {
   "cell_type": "code",
   "execution_count": 8,
   "id": "b06e329a-19cc-462a-a113-dc04790aefb9",
   "metadata": {},
   "outputs": [],
   "source": [
    "def normalize(points):\n",
    "    aPts = [afinize(x) for x in points]\n",
    "    teziste = np.mean(aPts, axis=0)\n",
    "\n",
    "    translirano = aPts - teziste\n",
    "    norme = [LA.norm(x) for x in translirano]\n",
    "    avgNorm = np.average(norme)\n",
    "    lam = np.sqrt(2)/avgNorm\n",
    "\n",
    "    S = np.array([[lam, 0, 0], [0, lam, 0], [0, 0, 1]])\n",
    "    G = np.array([[1, 0, -teziste[0]], [0, 1, -teziste[1]], [0, 0, 1]])\n",
    "    \n",
    "    return S@G"
   ]
  },
  {
   "cell_type": "code",
   "execution_count": 25,
   "id": "3ba1e05f-936b-4848-8116-da37f7d11b6a",
   "metadata": {},
   "outputs": [],
   "source": [
    "def nDLT(org, img):\n",
    "    org = np.array(org)\n",
    "    img = np.array(img)\n",
    "\n",
    "    T1 = normalize(org)\n",
    "    T2 = normalize(img) \n",
    "\n",
    "    nOrg = T1 @ org.T\n",
    "    nImg = T2 @ img.T\n",
    "\n",
    "    P = DLT(nOrg.T, nImg.T)\n",
    "    P = LA.inv(T2) @ P @ T1\n",
    "    \n",
    "\n",
    "    return np.round(P/P[-1,-1], 5)"
   ]
  },
  {
   "cell_type": "code",
   "execution_count": 26,
   "id": "6e46a2e6-7a11-4c1a-9fd9-792ddd2680d9",
   "metadata": {},
   "outputs": [
    {
     "data": {
      "text/plain": [
       "array([[ 1. ,  0. ,  0. ],\n",
       "       [ 0. ,  1. , -0.5],\n",
       "       [ 0. , -0.5,  1. ]])"
      ]
     },
     "execution_count": 26,
     "metadata": {},
     "output_type": "execute_result"
    }
   ],
   "source": [
    "nDLT([[-3, -1, 1],[3, -1, 1], [1, 1, 1], [-1, 1, 1]], [[-2, -1, 1],[2, -1, 1], [2, 1, 1], [-2, 1, 1]])"
   ]
  },
  {
   "cell_type": "code",
   "execution_count": null,
   "id": "f34d5ace-909f-4df9-ba9c-43739851b782",
   "metadata": {},
   "outputs": [],
   "source": []
  }
 ],
 "metadata": {
  "kernelspec": {
   "display_name": "Python 3 (ipykernel)",
   "language": "python",
   "name": "python3"
  },
  "language_info": {
   "codemirror_mode": {
    "name": "ipython",
    "version": 3
   },
   "file_extension": ".py",
   "mimetype": "text/x-python",
   "name": "python",
   "nbconvert_exporter": "python",
   "pygments_lexer": "ipython3",
   "version": "3.12.5"
  }
 },
 "nbformat": 4,
 "nbformat_minor": 5
}
