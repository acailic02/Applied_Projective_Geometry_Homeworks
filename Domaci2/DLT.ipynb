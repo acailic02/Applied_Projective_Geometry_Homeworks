{
 "cells": [
  {
   "cell_type": "code",
   "execution_count": 2,
   "id": "6dbefdaa-ed59-4e7f-a7da-573399fe2116",
   "metadata": {},
   "outputs": [],
   "source": [
    "import numpy as np\n",
    "from numpy import linalg as LA"
   ]
  },
  {
   "cell_type": "code",
   "execution_count": 7,
   "id": "12e715ff-3cca-4d3f-b3d1-95c8b5c6bddf",
   "metadata": {},
   "outputs": [],
   "source": [
    "def DLT(org: list, img: list):\n",
    "    if len(org) != len(img):\n",
    "        return \"Razlicit broj tacaka u slici i originalu!\"\n",
    "\n",
    "    #dve jednacine i pravljenje 2nx9 matrice\n",
    "    A = []\n",
    "    for (x1, x2, x3), (xp1, xp2, xp3) in zip(org, img):\n",
    "        A.append([0, 0, 0, -1*xp3*x1, -1*xp3*x2, -1*xp3*x3, xp2*x1, xp2*x2, xp2*x3])\n",
    "        A.append([xp3*x1, xp3*x2, xp3*x3, 0, 0, 0, -1*xp1*x1, -1*xp1*x2, -1*xp1*x3])\n",
    "    A = np.array(A)\n",
    "\n",
    "    U, D, V = LA.svd(A)\n",
    "    P = V[-1].reshape(3,3)\n",
    "    P = P/P[-1, -1]\n",
    "\n",
    "    return P"
   ]
  },
  {
   "cell_type": "code",
   "execution_count": 8,
   "id": "d5272e1f-78b0-4822-a2db-f416fab5e8f7",
   "metadata": {},
   "outputs": [
    {
     "name": "stdout",
     "output_type": "stream",
     "text": [
      "[[ 0.99610585  0.16557797 -0.19688896]\n",
      " [ 0.02513029  0.96444141 -0.52778224]\n",
      " [-0.07233499 -0.53789276  1.        ]]\n"
     ]
    }
   ],
   "source": [
    "trapez = [[- 3, - 1, 1], [3, - 1, 1], [1, 1, 1], [- 1, 1, 1], [1,2,3], [-8,-2,1]] \n",
    "pravougaonik1 = [[- 2, - 1, 1], [2, - 1, 1], [2, 1, 1], [- 2, 1, 1], [2,1,5], [-16,-5,5]]\n",
    "print(DLT(trapez, pravougaonik1))"
   ]
  },
  {
   "cell_type": "code",
   "execution_count": 5,
   "id": "9cec3b72-e391-4ef2-95e1-b6c1d54b0da3",
   "metadata": {},
   "outputs": [
    {
     "data": {
      "text/plain": [
       "array([[ 0.53452,  0.     , -0.     ],\n",
       "       [ 0.     ,  0.53452, -0.26726],\n",
       "       [-0.     , -0.26726,  0.53452]])"
      ]
     },
     "execution_count": 5,
     "metadata": {},
     "output_type": "execute_result"
    }
   ],
   "source": [
    "rez"
   ]
  },
  {
   "cell_type": "code",
   "execution_count": null,
   "id": "d056662b-5c9e-4016-95fb-82ef108f8c39",
   "metadata": {},
   "outputs": [],
   "source": []
  }
 ],
 "metadata": {
  "kernelspec": {
   "display_name": "Python 3 (ipykernel)",
   "language": "python",
   "name": "python3"
  },
  "language_info": {
   "codemirror_mode": {
    "name": "ipython",
    "version": 3
   },
   "file_extension": ".py",
   "mimetype": "text/x-python",
   "name": "python",
   "nbconvert_exporter": "python",
   "pygments_lexer": "ipython3",
   "version": "3.12.5"
  }
 },
 "nbformat": 4,
 "nbformat_minor": 5
}
