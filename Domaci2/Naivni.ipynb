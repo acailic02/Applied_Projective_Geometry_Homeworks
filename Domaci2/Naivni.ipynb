{
 "cells": [
  {
   "cell_type": "code",
   "execution_count": 5,
   "id": "3cf1666f-049b-459c-b95e-19a9fec34db9",
   "metadata": {},
   "outputs": [],
   "source": [
    "import numpy as np\n",
    "from numpy import linalg as LA\n",
    "from itertools import combinations\n",
    "np.set_printoptions(precision=5, suppress=True)"
   ]
  },
  {
   "cell_type": "code",
   "execution_count": 6,
   "id": "532965a7-ace4-4afa-a1ed-72b724ee41de",
   "metadata": {},
   "outputs": [],
   "source": [
    "def colinear(p1, p2, p3):\n",
    "    matrix = np.array([p1,p2,p3]).T\n",
    "    det = LA.det(matrix)\n",
    "\n",
    "    return det == 0"
   ]
  },
  {
   "cell_type": "code",
   "execution_count": 7,
   "id": "af0097f7-b3d8-42b6-ba7c-5e45a658fa8d",
   "metadata": {},
   "outputs": [],
   "source": [
    "import numpy as np\n",
    "np.set_printoptions(precision=5, suppress=True)\n",
    "from itertools import combinations\n",
    "from numpy import linalg as LA\n",
    " \n",
    " \n",
    "def naivni(origs, imgs):\n",
    "    def colinear(p1, p2, p3):\n",
    "        matrix = np.array([p1,p2,p3])\n",
    "        det = LA.det(matrix)\n",
    "\n",
    "        return det == 0\n",
    "    \n",
    "    for a,b,c in combinations(origs, 3):\n",
    "        if colinear(a,b,c):\n",
    "            return \"Losi originali!\"\n",
    "    for a,b,c in combinations(imgs, 3):\n",
    "        if colinear(a,b,c):\n",
    "            return \"Lose slike!\"\n",
    "\n",
    "    d0 = np.array(origs[3])\n",
    "    d = np.array(imgs[3])\n",
    "\n",
    "    #prvo preslikavanje\n",
    "    A = np.array(origs[:-1])\n",
    "    P = LA.solve(A.T, d0.T)\n",
    "\n",
    "    f = P * A.T\n",
    "    f = np.array(f)\n",
    "    print(f)\n",
    "\n",
    "    #drugo preslikavanje\n",
    "    B = np.array(imgs[:-1])\n",
    "    P2 = LA.solve(B.T, d.T)\n",
    "\n",
    "    g = P2 * B.T \n",
    "    g = np.array(g)\n",
    "    print(g)\n",
    "\n",
    "    matrica = g @ LA.inv(f)\n",
    "    matrica = np.array(matrica)/matrica[-1][-1]\n",
    "    matrica = [np.where(np.isclose(x,0), 0.0, x) for x in matrica]\n",
    "    \n",
    "    return np.array(matrica)"
   ]
  },
  {
   "cell_type": "code",
   "execution_count": 8,
   "id": "ce24948a-7f4b-4106-ab1f-4a26635f415d",
   "metadata": {},
   "outputs": [
    {
     "name": "stdout",
     "output_type": "stream",
     "text": [
      "[[ 0.  -1.   1. ]\n",
      " [ 0.  -0.   1. ]\n",
      " [ 0.5 -0.5  1. ]]\n",
      "[[ 0. -1.  1.]\n",
      " [ 0. -0.  1.]\n",
      " [ 1. -1.  1.]]\n",
      "[[ 0.5  0.   0. ]\n",
      " [ 0.   0.5  0. ]\n",
      " [ 0.  -0.5  1. ]]\n"
     ]
    }
   ],
   "source": [
    "trapez = [[0, 0, 1], [2, 0, 1], [1, 1, 1], [0, 1, 1]] \n",
    "pravougaonik = [[0, 0, 1], [1, 0, 1], [1, 1, 1], [0, 1, 1]]\n",
    "print(naivni(trapez, pravougaonik))"
   ]
  },
  {
   "cell_type": "code",
   "execution_count": null,
   "id": "ace96e0e-cb30-4ba6-bd27-755fc01413cf",
   "metadata": {},
   "outputs": [],
   "source": []
  }
 ],
 "metadata": {
  "kernelspec": {
   "display_name": "Python 3 (ipykernel)",
   "language": "python",
   "name": "python3"
  },
  "language_info": {
   "codemirror_mode": {
    "name": "ipython",
    "version": 3
   },
   "file_extension": ".py",
   "mimetype": "text/x-python",
   "name": "python",
   "nbconvert_exporter": "python",
   "pygments_lexer": "ipython3",
   "version": "3.12.5"
  }
 },
 "nbformat": 4,
 "nbformat_minor": 5
}
